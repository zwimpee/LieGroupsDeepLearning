{
  "cells": [
    {
      "cell_type": "markdown",
      "metadata": {
        "id": "view-in-github",
        "colab_type": "text"
      },
      "source": [
        "<a href=\"https://colab.research.google.com/github/zwimpee/LieGroupsDeepLearning/blob/main/Chapter%201%20-%20Introduction%20to%20Lie%20Groups/Code/ch1_exercises-02.ipynb\" target=\"_parent\"><img src=\"https://colab.research.google.com/assets/colab-badge.svg\" alt=\"Open In Colab\"/></a>"
      ]
    },
    {
      "cell_type": "markdown",
      "source": [
        "# Chapter 1 Exercises - Continued\n",
        "Cleaning up from where we left off in part 1, we will now implement the multi-head attention layer. We will also implement the positional encoding layer, which is used to add positional information to the input embeddings.\n",
        "\n",
        "\n",
        "## Input embeddings\n",
        "\n",
        "### Standard embeddings\n",
        "The standard input embeddings are defined as follows:\n",
        "$$\n",
        "\\text{Embed}(x) = xW^E\n",
        "$$\n",
        "where $x \\in \\mathbb{R}^{n \\times d_{\\text{in}}}$ is the input, $W^E \\in \\mathbb{R}^{d_{\\text{in}} \\times d_{\\text{model}}}$ is a learned linear projection, and $d_{\\text{in}}$ is the input dimension.\n",
        "\n",
        "\n",
        "\n",
        "### Rotationally invariant embeddings\n",
        "The additional constraint that the input embeddings are rotationally invariant is that for any orthogonal matrix $R \\in \\mathbb{R}^{d_{\\text{in}} \\times d_{\\text{in}}}$, we have\n",
        "$$\n",
        "\\text{Embed}(x) = \\text{Embed}(xR)\n",
        "$$\n",
        "for any $x$.\n",
        "\n",
        "This constraint requires that we modify the input embeddings. We will use the following input embeddings instead:\n",
        "$$\n",
        "\\dots\n",
        "$$\n",
        "\n",
        "\n",
        "## Positional encoding\n",
        "\n",
        "### Standard positional encoding\n",
        "The standard positional encoding layer is defined as follows:\n",
        "$$\n",
        "\\text{PE}_{(pos, 2i)} = \\sin\\left(\\frac{pos}{10000^{2i/d_{\\text{model}}}}\\right) \\\\\n",
        "\\text{PE}_{(pos, 2i+1)} = \\cos\\left(\\frac{pos}{10000^{2i/d_{\\text{model}}}}\\right)\n",
        "$$\n",
        "where $pos$ is the position and $i$ is the dimension. The positional encoding is added to the input embeddings.\n",
        "\n",
        "### Rotationally invariant positional encoding\n",
        "The additional constraint that the positional encoding layer is rotationally invariant is that for any orthogonal matrix $R \\in \\mathbb{R}^{d_{\\text{model}} \\times d_{\\text{model}}}$, we have\n",
        "$$\n",
        "\\text{PE}(x) = \\text{PE}(Rx)\n",
        "$$\n",
        "for any $x$.\n",
        "\n",
        "This constraint requires that we modify the positional encoding layer. We will use the following positional encoding layer instead:\n",
        "$$\n",
        "\\dots\n",
        "$$\n",
        "\n",
        "\n",
        "### Exercise\n",
        "Prove that the standard positional encoding layer is not rotationally invariant.\n",
        "\n",
        "### Exercise\n",
        "Implement the standard positional encoding layer.\n",
        "\n",
        "### Exercise\n",
        "Prove that our new positional encoding layer is rotationally invariant.\n",
        "\n",
        "### Exercise\n",
        "Implement the rotationally invariant positional encoding layer.\n",
        "\n",
        "\n",
        "\n",
        "## Rotationally invariant multi-head attention\n",
        "The multi-head attention layer is defined as follows:\n",
        "$$\n",
        "\\begin{align}\n",
        "\\text{MultiHead}(Q, K, V) &= \\text{Concat}(\\text{head}_1, \\dots, \\text{head}_h) W^O \\\\\n",
        "\\text{head}_i &= \\text{Attention}(QW_i^Q, KW_i^K, VW_i^V)\n",
        "\\end{align}\n",
        "$$\n",
        "where $W_i^Q \\in \\mathbb{R}^{d_{\\text{model}} \\times d_k}$, $W_i^K \\in \\mathbb{R}^{d_{\\text{model}} \\times d_k}$, $W_i^V \\in \\mathbb{R}^{d_{\\text{model}} \\times d_v}$, and $W^O \\in \\mathbb{R}^{hd_v \\times d_{\\text{model}}}$ are learned linear projections, and $h$ is the number of heads. The attention function is defined as:\n",
        "$$\n",
        "\\text{Attention}(Q, K, V) = \\text{softmax}\\left(\\frac{QK^T}{\\sqrt{d_k}}\\right)V\n",
        "$$\n",
        "where $Q \\in \\mathbb{R}^{n \\times d_k}$, $K \\in \\mathbb{R}^{m \\times d_k}$, and $V \\in \\mathbb{R}^{m \\times d_v}$.\n",
        "\n",
        "The condition that the attention function is rotationally invariant is that for any orthogonal matrix $R \\in \\mathbb{R}^{d_k \\times d_k}$, we have\n",
        "$$\n",
        "\\text{Attention}(Q, K, V) = \\text{Attention}(QR, KR, VR)\n",
        "$$\n",
        "for any $Q$, $K$, and $V$.\n",
        "\n",
        "### Exercise\n",
        "Prove that the standard dot-product attention function is not rotationally invariant.\n",
        "\n",
        "\n",
        "### Exercise\n",
        "Implement the multi-head attention layer. You may use the `torch.einsum` function to compute the attention function. You may also use the `torch.nn.Linear` module to implement the linear projections.\n",
        "\n",
        "\n",
        "### Exercise\n",
        "Prove that our multi-head attention layer is rotationally invariant.\n",
        "\n",
        "## Transformer\n",
        "The Rotationally Invariant Transformer (RIT) is defined as follows:\n",
        "$$\n",
        "\\begin{align}\n",
        "\\text{RIT}(x) &= \\text{LayerNorm}(x + \\text{MultiHead}(x, x, x)) \\\\\n",
        "\\text{RIT}(x) &= \\text{LayerNorm}(x + \\text{FFN}(x))\n",
        "\\end{align}\n",
        "$$\n",
        "where the multi-head attention layer is defined above, and the feed-forward network (FFN) is defined as follows:\n",
        "$$\n",
        "\\text{FFN}(x) = \\text{ReLU}(xW_1 + b_1)W_2 + b_2\n",
        "$$\n",
        "where $W_1 \\in \\mathbb{R}^{d_{\\text{model}} \\times d_{\\text{ff}}}$, $b_1 \\in \\mathbb{R}^{d_{\\text{ff}}}$, $W_2 \\in \\mathbb{R}^{d_{\\text{ff}} \\times d_{\\text{model}}}$, and $b_2 \\in \\mathbb{R}^{d_{\\text{model}}}$ are learned parameters.\n",
        "\n",
        "### Exercise\n",
        "Implement the RIT layer. You may use the `torch.nn.LayerNorm` module to implement the layer normalization, and the `torch.nn.Linear` module to implement the linear projections.\n",
        "\n",
        "\n",
        "\n",
        "\n",
        "\n",
        "### Exercise: Final model\n",
        "Train a completely custom language model that is built using rotationally invariant principles.\n"
      ],
      "metadata": {
        "collapsed": false,
        "id": "XA_mKVsuMVun"
      }
    },
    {
      "cell_type": "markdown",
      "source": [],
      "metadata": {
        "collapsed": false,
        "id": "NcD8Vbh7MVuv"
      }
    },
    {
      "cell_type": "markdown",
      "source": [
        "# Exercise: Final model\n",
        "\n",
        "### Imports"
      ],
      "metadata": {
        "collapsed": false,
        "id": "Q_KjQOLKMVuv"
      }
    },
    {
      "cell_type": "code",
      "execution_count": 1,
      "outputs": [
        {
          "output_type": "stream",
          "name": "stdout",
          "text": [
            "fatal: destination path 'nanoGPT' already exists and is not an empty directory.\n"
          ]
        }
      ],
      "source": [
        "!git clone https://github.com/karpathy/nanoGPT.git"
      ],
      "metadata": {
        "ExecuteTime": {
          "end_time": "2023-06-12T19:46:54.804862700Z",
          "start_time": "2023-06-12T19:46:54.684862500Z"
        },
        "colab": {
          "base_uri": "https://localhost:8080/"
        },
        "id": "NdyMduGnMVuw",
        "outputId": "fc6f76d9-8a17-4e98-b63d-0b62cb398f7d"
      }
    },
    {
      "cell_type": "code",
      "execution_count": 2,
      "metadata": {
        "collapsed": true,
        "ExecuteTime": {
          "end_time": "2023-06-12T19:17:17.475789Z",
          "start_time": "2023-06-12T19:17:12.068168Z"
        },
        "colab": {
          "base_uri": "https://localhost:8080/"
        },
        "id": "htowhqYyMVuy",
        "outputId": "16248a50-5e1b-4464-e2f9-b552c200335b"
      },
      "outputs": [
        {
          "output_type": "stream",
          "name": "stdout",
          "text": [
            "OS: Linux 5.15.107+\n",
            "Python: 3.10.12\n",
            "PyTorch: 2.0.1+cu118\n",
            "CUDA version: 11.8\n",
            "vocab_size: 100000 tokens\n"
          ]
        }
      ],
      "source": [
        "import os\n",
        "os.environ[\"CUDA_LAUNCH_BLOCKING\"] = \"1\"\n",
        "\n",
        "import numpy as np\n",
        "\n",
        "from typing import Optional, Tuple, List, Any, Generator, Union, Dict, NamedTuple\n",
        "\n",
        "from nanoGPT.model import GPTConfig, GPT, MLP\n",
        "\n",
        "import torch\n",
        "\n",
        "import platform\n",
        "print(f\"OS: {platform.system()} {platform.release()}\")\n",
        "print(f\"Python: {platform.python_version()}\")\n",
        "\n",
        "print(f\"PyTorch: {torch.__version__}\")\n",
        "print(f\"CUDA version: {torch.version.cuda}\")\n",
        "\n",
        "import torch.nn as nn\n",
        "import torch.nn.functional as F\n",
        "import torch.optim as optim\n",
        "\n",
        "from torchtext.data.utils import get_tokenizer\n",
        "from torchtext.vocab import build_vocab_from_iterator, Vocab\n",
        "from torch.utils.data import DataLoader\n",
        "\n",
        "\n",
        "import pickle\n",
        "from torch.utils.data import random_split\n",
        "import os\n",
        "\n",
        "import io\n",
        "import zipfile\n",
        "import requests\n",
        "\n",
        "# Initialize the model\n",
        "max_vocab_size =torch.tensor(10e4,dtype=torch.int64)\n",
        "d_model = n_embd\n",
        "num_heads = n_head\n",
        "num_layers = n_layer\n",
        "print(f'max vocab_size: {vocab_size} tokens')"
      ]
    },
    {
      "cell_type": "code",
      "source": [
        "# Set device\n",
        "device = torch.device(\"cuda\" if torch.cuda.is_available() else \"cpu\")\n",
        "#device = torch.device(\"cpu\")\n",
        "\n",
        "print(device)"
      ],
      "metadata": {
        "colab": {
          "base_uri": "https://localhost:8080/"
        },
        "id": "a5Su_gomMq_u",
        "outputId": "6fb7b00a-9998-4c21-b754-0dd69361e61f"
      },
      "execution_count": 3,
      "outputs": [
        {
          "output_type": "stream",
          "name": "stdout",
          "text": [
            "cuda\n"
          ]
        }
      ]
    },
    {
      "cell_type": "code",
      "source": [
        "from torchtext.vocab.vocab_factory import Vocab\n",
        "\n",
        "# Download the dataset as a zip file\n",
        "url = 'https://s3.amazonaws.com/research.metamind.io/wikitext/wikitext-2-v1.zip'\n",
        "response = requests.get(url)\n",
        "zip_content = response.content\n",
        "\n",
        "# Extract the dataset from the zip file\n",
        "with zipfile.ZipFile(io.BytesIO(zip_content), 'r') as zip_ref:\n",
        "    zip_ref.extractall('wikitext-2')\n",
        "\n",
        "# Load data from files\n",
        "with open('wikitext-2/wikitext-2/wiki.train.tokens', 'r', encoding='utf-8') as f:\n",
        "    train_data_raw = f.read()\n",
        "with open('wikitext-2/wikitext-2/wiki.valid.tokens', 'r', encoding='utf-8') as f:\n",
        "    valid_data_raw = f.read()\n",
        "with open('wikitext-2/wikitext-2/wiki.test.tokens', 'r', encoding='utf-8') as f:\n",
        "    test_data_raw = f.read()\n",
        "\n",
        "# Tokenize the data\n",
        "tokenizer = get_tokenizer('basic_english')\n",
        "\n",
        "# Create the vocabulary\n",
        "train_iter = tokenizer(train_data_raw)\n",
        "valid_iter = tokenizer(valid_data_raw)\n",
        "test_iter = tokenizer(test_data_raw)\n",
        "\n",
        "vocab = build_vocab_from_iterator([train_iter, valid_iter, test_iter], specials=['<unk>', '<pad>', '<bos>', '<eos>'])\n",
        "vocab.set_default_index(vocab['<unk>'])\n",
        "\n",
        "# Convert raw data to tensors\n",
        "train_data = [torch.tensor([vocab[token] for token in tokenizer(sample)], dtype=torch.long) for sample in train_data_raw.split()]\n",
        "valid_data = [torch.tensor([vocab[token] for token in tokenizer(sample)], dtype=torch.long) for sample in valid_data_raw.split()]\n",
        "test_data = [torch.tensor([vocab[token] for token in tokenizer(sample)], dtype=torch.long) for sample in test_data_raw.split()]\n",
        "\n",
        "# We can compute the vocab_size based on the actual vocab size obtained from the vocabulary object\n",
        "vocab_size = len(vocab)\n",
        "print(f\"Vocab size: {vocab_size}\")"
      ],
      "metadata": {
        "colab": {
          "base_uri": "https://localhost:8080/"
        },
        "id": "S7zJoyqPOg7D",
        "outputId": "c25332df-43c4-4824-f2b6-f2b75644cb51"
      },
      "execution_count": 23,
      "outputs": [
        {
          "output_type": "stream",
          "name": "stdout",
          "text": [
            "Vocab size: 28785\n"
          ]
        }
      ]
    },
    {
      "cell_type": "code",
      "execution_count": 24,
      "outputs": [],
      "source": [
        "from torch.nn.utils.rnn import pad_sequence\n",
        "\n",
        "def collate_fn(batch):\n",
        "    padded_batch = pad_sequence(batch, batch_first=True, padding_value=vocab['<pad>'])\n",
        "    return padded_batch\n",
        "\n",
        "def batchify(data, batch_size):\n",
        "    return DataLoader(data, batch_size=batch_size, shuffle=True, collate_fn=collate_fn)\n",
        "\n",
        "batch_size = 64\n",
        "eval_batch_size = 128\n",
        "\n",
        "# Now, let's use the modified batchify function to create DataLoaders\n",
        "train_loader = batchify(train_data, batch_size)\n",
        "valid_loader = batchify(valid_data, eval_batch_size)\n",
        "test_loader = batchify(test_data, eval_batch_size)\n",
        "\n",
        "train_loader = DataLoader(batchify(train_data, batch_size), batch_size=batch_size)\n",
        "valid_loader = DataLoader(batchify(valid_data, eval_batch_size), batch_size=eval_batch_size)\n",
        "test_loader = DataLoader(batchify(test_data, eval_batch_size), batch_size=eval_batch_size)"
      ],
      "metadata": {
        "ExecuteTime": {
          "end_time": "2023-06-12T19:17:26.970843900Z",
          "start_time": "2023-06-12T19:17:19.584460800Z"
        },
        "id": "dcborur6MVu1"
      }
    },
    {
      "cell_type": "code",
      "source": [],
      "metadata": {
        "id": "JP4CSXlYUkyo"
      },
      "execution_count": 24,
      "outputs": []
    },
    {
      "cell_type": "code",
      "execution_count": 25,
      "outputs": [
        {
          "output_type": "error",
          "ename": "SyntaxError",
          "evalue": "ignored",
          "traceback": [
            "\u001b[0;36m  File \u001b[0;32m\"<ipython-input-25-3a5102eaaf50>\"\u001b[0;36m, line \u001b[0;32m84\u001b[0m\n\u001b[0;31m    super().__init__(self, config: GPTConfig = gpt_config)\u001b[0m\n\u001b[0m                                 ^\u001b[0m\n\u001b[0;31mSyntaxError\u001b[0m\u001b[0;31m:\u001b[0m invalid syntax\n"
          ]
        }
      ],
      "source": [
        "\n",
        "class RotationInvariantMultiHeadAttention(nn.Module):\n",
        "    def __init__(self, d_model, num_heads):\n",
        "        super().__init__()\n",
        "        self.d_model = d_model\n",
        "        self.num_heads = num_heads\n",
        "        self.head_dim = d_model // num_heads\n",
        "\n",
        "        self.query_linear = nn.Linear(d_model, d_model)\n",
        "        self.key_linear = nn.Linear(d_model, d_model)\n",
        "        self.value_linear = nn.Linear(d_model, d_model)\n",
        "        self.out_linear = nn.Linear(d_model, d_model)\n",
        "\n",
        "    def euclidean_distance(self, x, y):\n",
        "        return torch.sum((x - y) ** 2, dim=-1)\n",
        "\n",
        "    def forward(self, x):\n",
        "        batch_size = x.size(0)\n",
        "\n",
        "        query = self.query_linear(x)\n",
        "        key = self.key_linear(x)\n",
        "        value = self.value_linear(x)\n",
        "\n",
        "        query = query.view(batch_size, -1, self.num_heads, self.head_dim).transpose(1, 2).unsqueeze(3)\n",
        "        key = key.view(batch_size, -1, self.num_heads, self.head_dim).transpose(1, 2).unsqueeze(2)\n",
        "        value = value.view(batch_size, -1, self.num_heads, self.head_dim).transpose(1, 2).unsqueeze(2)\n",
        "\n",
        "        scores = self.euclidean_distance(query, key)\n",
        "        scores = - torch.sqrt(scores)\n",
        "\n",
        "        weights = F.softmax(scores, dim=-1)\n",
        "\n",
        "        print(f\"query shape: {query.shape}\")  # Add this line\n",
        "        print(f\"key shape: {key.shape}\")  # Add this line\n",
        "        print(f\"value shape: {value.shape}\")  # Add this line\n",
        "        print(f\"weights shape: {weights.shape}\")  # Add this line\n",
        "\n",
        "        attention = torch.einsum(\"bnqd,bnqd->bnqd\", weights, value).contiguous()\n",
        "\n",
        "        print(f\"attention shape: {attention.shape}\")  # Add this line\n",
        "\n",
        "        attention = attention.transpose(1, 2).contiguous().view(batch_size, -1, self.d_model)\n",
        "        return self.out_linear(attention)\n",
        "\n",
        "class RotationInvariantTransformerLayer(nn.Module):\n",
        "    def __init__(self, d_model, num_heads):\n",
        "        super().__init__()\n",
        "        self.multi_head_attention = RotationInvariantMultiHeadAttention(d_model, num_heads)\n",
        "        self.norm1 = nn.LayerNorm(d_model)\n",
        "        self.norm2 = nn.LayerNorm(d_model)\n",
        "        self.dropout = nn.Dropout(0.1)\n",
        "        self.feed_forward = nn.Sequential(\n",
        "            nn.Linear(d_model, 4 * d_model),\n",
        "            nn.ReLU(),\n",
        "            nn.Linear(4 * d_model, d_model)\n",
        "        )\n",
        "\n",
        "    def forward(self, x):\n",
        "        # Self-Attnetion\n",
        "        attn_out = self.multi_head_attention(x)\n",
        "        x = self.norm1(attn_out + x)\n",
        "        x = self.dropout(x)\n",
        "\n",
        "        # Position-wise Feedforward\n",
        "        ff_out = self.feed_forward(x)\n",
        "        x = self.norm2(ff_out + x)\n",
        "        x = self.dropout(x)\n",
        "\n",
        "        return x\n",
        "\n",
        "class RotationInvariantTransformer(nn.Module):\n",
        "    def __init__(self, input_dim, d_model, num_heads, num_layers):\n",
        "        super().__init__()\n",
        "        self.embedding = nn.Embedding(input_dim, d_model)\n",
        "        self.layers = nn.ModuleList([RotationInvariantTransformerLayer(d_model, num_heads) for _ in range(num_layers)])\n",
        "\n",
        "    def forward(self, x):\n",
        "        x = self.embedding(x.long())\n",
        "        for layer in self.layers:\n",
        "            x = layer(x)\n",
        "        return x\n",
        "\n",
        "class RotationallyInvariantLanguageModel(nn.Module):\n",
        "    def __init__(self, config: GPTConfig = None):\n",
        "        super().__init__(self, config: GPTConfig = gpt_config)\n",
        "        self.config = config\n",
        "        print(\"Vocab size passed to LanguageModel:\", config.vocab_size)\n",
        "        self.embedding = nn.Embedding(config.vocab_size, config.d_model)\n",
        "        self.transformer = RotationInvariantTransformer(input_dim=config.d_model, d_model=config.d_model, num_heads=config.num_heads, num_layers=config.num_layers)\n",
        "        self.fc = nn.Linear(config.d_model, config.vocab_size)\n",
        "        self.seq_len = config.seq_len\n",
        "\n",
        "    def forward(self, x, y=None):\n",
        "        print(f\"x dimensions in LanguageModel: {x.shape}\")\n",
        "        print(\"Min index:\", x.min().item(), \"Max index:\", x.max().item())\n",
        "        embedded = self.embedding(x.long())  # Add .long() here\n",
        "        transformer_out = self.transformer(embedded.view(-1, d_model))\n",
        "        logits = self.fc(transformer_out)\n",
        "\n",
        "        if y is not None:\n",
        "            # if we are given some desired targets also calculate the loss\n",
        "            logits = self.lm_head(x)\n",
        "            loss = F.cross_entropy(logits.view(-1, logits.size(-1)), y.view(-1), ignore_index=-1)\n",
        "        else:\n",
        "            # inference-time mini-optimization: only forward the lm_head on the very last position\n",
        "            logits = self.lm_head(x[:, [-1], :]) # note: using list [-1] to preserve the time dim\n",
        "            loss = None\n",
        "\n",
        "        return logits, loss\n",
        "\n",
        "\n",
        "\n",
        "\n",
        "\n",
        "\n",
        "\n",
        "# Define the models\n",
        "rigpt_config = GPTConfig(vocab_size, d_model, num_heads, num_layers, block_size, dropout, bias)\n",
        "gpt_config = GPTConfig(vocab_size, d_model, num_heads, num_layers, block_size, dropout, bias)\n",
        "rigpt = RotationallyInvariantLanguageModel(rigpt_config).to(device)\n",
        "\n",
        "def train(model, iterator, optimizer, criterion):\n",
        "    model.train()\n",
        "    running_loss = 0\n",
        "\n",
        "    for batch in iterator:\n",
        "        optimizer.zero_grad()\n",
        "        input_data = batch[:-1, :]\n",
        "        target_data = batch[1:, :]\n",
        "        output, loss = model(input_data, target_data)\n",
        "        #print(\"Output type:\", type(output))\n",
        "        #print(\"Output:\", output)\n",
        "        running_loss += loss.item()\n",
        "        loss.backward()\n",
        "        optimizer.step()\n",
        "\n",
        "    return running_loss / len(iterator)\n",
        "\n",
        "def evaluate(model, iterator, criterion):\n",
        "    model.eval()\n",
        "    running_loss = 0\n",
        "\n",
        "    with torch.no_grad():\n",
        "        for batch in iterator:\n",
        "            input_data = batch[:-1, :]\n",
        "            target_data = batch[1:, :]\n",
        "            output = model(input_data)\n",
        "            loss = criterion(output.view(-1, output.shape[-1]), target_data.view(-1))\n",
        "            running_loss += loss.item()\n",
        "\n",
        "    return running_loss / len(iterator)\n",
        "\n",
        "epochs = 10\n",
        "lr = 0.001\n",
        "\n",
        "gpt_optimizer = optim.Adam(gpt.parameters(), lr=lr)\n",
        "rigpt_optimizer = optim.Adam(rigpt.parameters(), lr=lr)\n",
        "criterion = nn.CrossEntropyLoss()\n",
        "\n",
        "for epoch in range(1, epochs + 1):\n",
        "    gpt_train_loss = train(gpt, train_loader, gpt_optimizer, criterion)\n",
        "    ri_train_loss = train(rigpt, train_loader, rigpt_optimizer, criterion)\n",
        "    gpt_valid_loss = evaluate(gpt, valid_loader, criterion)\n",
        "    ri_valid_loss = evaluate(rigpt, valid_loader, criterion)\n",
        "    print(f'Epoch: {epoch}, Train loss: {gpt_train_loss:.3f}, Validation loss: {gpt_valid_loss:.3f}')\n",
        "    print(f'Epoch: {epoch}, Train loss: {ri_train_loss:.3f}, Validation loss: {ri_valid_loss:.3f}')\n",
        "\n",
        "\n",
        "def generate(model, start_text, generate_len=30, temperature=0.8):\n",
        "    model.eval()\n",
        "    input_data = torch.tensor([vocab[token] for token in tokenizer(start_text)], dtype=torch.long, device=device).unsqueeze(1)\n",
        "\n",
        "    hidden = None\n",
        "    generated_text = start_text\n",
        "\n",
        "    with torch.no_grad():\n",
        "        for _ in range(generate_len):\n",
        "            output = model(input_data)\n",
        "            output = output / temperature\n",
        "            output = torch.exp(output)\n",
        "            probs = output[-1, :].squeeze().cpu()\n",
        "\n",
        "            # Sample from the output distribution\n",
        "            next_token_idx = torch.multinomial(probs, 1).item()\n",
        "            next_token = vocab.itos[next_token_idx]\n",
        "\n",
        "            # Append the generated token to the existing sequence and update input data\n",
        "            generated_text += \" \" + next_token\n",
        "            input_data = torch.cat([input_data, torch.tensor([[next_token_idx]], device=device)], dim=0)\n",
        "\n",
        "    return generated_text\n",
        "\n",
        "print(generate(gpt, \"The history of\", generate_len=30))\n",
        "print(generate(rigpt_optimizer, \"The history of\", generate_len=30))"
      ],
      "metadata": {
        "ExecuteTime": {
          "end_time": "2023-06-12T19:46:46.913265Z",
          "start_time": "2023-06-12T19:18:28.418280Z"
        },
        "colab": {
          "base_uri": "https://localhost:8080/",
          "height": 130
        },
        "id": "8R3YBvPFMVu2",
        "outputId": "e0dc08e9-2033-41cc-83c6-993d343f385f"
      }
    },
    {
      "cell_type": "code",
      "execution_count": 16,
      "outputs": [],
      "source": [],
      "metadata": {
        "id": "-mAXcevqMVu3"
      }
    }
  ],
  "metadata": {
    "kernelspec": {
      "display_name": "Python 3",
      "name": "python3"
    },
    "language_info": {
      "codemirror_mode": {
        "name": "ipython",
        "version": 2
      },
      "file_extension": ".py",
      "mimetype": "text/x-python",
      "name": "python",
      "nbconvert_exporter": "python",
      "pygments_lexer": "ipython2",
      "version": "2.7.6"
    },
    "colab": {
      "provenance": [],
      "machine_shape": "hm",
      "gpuType": "A100",
      "include_colab_link": true
    },
    "accelerator": "GPU"
  },
  "nbformat": 4,
  "nbformat_minor": 0
}